{
 "cells": [
  {
   "cell_type": "markdown",
   "id": "ac6cd9dd",
   "metadata": {},
   "source": [
    "# Functions"
   ]
  },
  {
   "cell_type": "code",
   "execution_count": 3,
   "id": "9c25b5e8",
   "metadata": {},
   "outputs": [],
   "source": [
    "def add(): #Function definition\n",
    "    x=(int(input(\"Enter x: \")))\n",
    "    y=10\n",
    "    z=x+y\n",
    "    print(\"z is\",z)"
   ]
  },
  {
   "cell_type": "code",
   "execution_count": 5,
   "id": "4655c087",
   "metadata": {},
   "outputs": [
    {
     "name": "stdout",
     "output_type": "stream",
     "text": [
      "Enter x: 4\n",
      "z is 14\n"
     ]
    }
   ],
   "source": [
    "add() #Function call"
   ]
  },
  {
   "cell_type": "code",
   "execution_count": 6,
   "id": "5d50be6e",
   "metadata": {},
   "outputs": [
    {
     "name": "stdout",
     "output_type": "stream",
     "text": [
      "Hi\n",
      "Enter x: 45\n",
      "z is 55\n"
     ]
    },
    {
     "ename": "NameError",
     "evalue": "name 'z' is not defined",
     "output_type": "error",
     "traceback": [
      "\u001b[1;31m---------------------------------------------------------------------------\u001b[0m",
      "\u001b[1;31mNameError\u001b[0m                                 Traceback (most recent call last)",
      "\u001b[1;32m~\\AppData\\Local\\Temp/ipykernel_30572/2998796980.py\u001b[0m in \u001b[0;36m<module>\u001b[1;34m\u001b[0m\n\u001b[0;32m      1\u001b[0m \u001b[0mprint\u001b[0m\u001b[1;33m(\u001b[0m\u001b[1;34m\"Hi\"\u001b[0m\u001b[1;33m)\u001b[0m\u001b[1;33m\u001b[0m\u001b[1;33m\u001b[0m\u001b[0m\n\u001b[0;32m      2\u001b[0m \u001b[0madd\u001b[0m\u001b[1;33m(\u001b[0m\u001b[1;33m)\u001b[0m\u001b[1;33m\u001b[0m\u001b[1;33m\u001b[0m\u001b[0m\n\u001b[1;32m----> 3\u001b[1;33m \u001b[0mprint\u001b[0m\u001b[1;33m(\u001b[0m\u001b[0mz\u001b[0m\u001b[1;33m)\u001b[0m\u001b[1;33m\u001b[0m\u001b[1;33m\u001b[0m\u001b[0m\n\u001b[0m",
      "\u001b[1;31mNameError\u001b[0m: name 'z' is not defined"
     ]
    }
   ],
   "source": [
    "print(\"Hi\")\n",
    "add()\n",
    "print(z) #it won't take any value from the function as that value is local value, not available for any other function too."
   ]
  },
  {
   "cell_type": "code",
   "execution_count": 17,
   "id": "315fd036",
   "metadata": {},
   "outputs": [],
   "source": [
    "x=78\n",
    "# this is called giving global value. This can work inside function."
   ]
  },
  {
   "cell_type": "markdown",
   "id": "4a36533f",
   "metadata": {},
   "source": [
    "### Scope"
   ]
  },
  {
   "cell_type": "code",
   "execution_count": 9,
   "id": "e510d52f",
   "metadata": {},
   "outputs": [],
   "source": [
    "#Local value, and Global value."
   ]
  },
  {
   "cell_type": "code",
   "execution_count": 10,
   "id": "312db01b",
   "metadata": {},
   "outputs": [],
   "source": [
    "x=10"
   ]
  },
  {
   "cell_type": "code",
   "execution_count": 11,
   "id": "3c58bb47",
   "metadata": {},
   "outputs": [],
   "source": [
    "def func():\n",
    "    y=45\n",
    "    z=x/y\n",
    "    print(z)"
   ]
  },
  {
   "cell_type": "code",
   "execution_count": 12,
   "id": "278bf5b4",
   "metadata": {},
   "outputs": [
    {
     "name": "stdout",
     "output_type": "stream",
     "text": [
      "0.2222222222222222\n"
     ]
    }
   ],
   "source": [
    "func()"
   ]
  },
  {
   "cell_type": "code",
   "execution_count": 13,
   "id": "a73a0b1a",
   "metadata": {},
   "outputs": [
    {
     "data": {
      "text/plain": [
       "0.2222222222222222"
      ]
     },
     "execution_count": 13,
     "metadata": {},
     "output_type": "execute_result"
    }
   ],
   "source": [
    "10/45\n"
   ]
  },
  {
   "cell_type": "code",
   "execution_count": 14,
   "id": "b3d009a7",
   "metadata": {},
   "outputs": [
    {
     "data": {
      "text/plain": [
       "10"
      ]
     },
     "execution_count": 14,
     "metadata": {},
     "output_type": "execute_result"
    }
   ],
   "source": [
    "x"
   ]
  },
  {
   "cell_type": "code",
   "execution_count": 15,
   "id": "3c1c9631",
   "metadata": {},
   "outputs": [
    {
     "name": "stdout",
     "output_type": "stream",
     "text": [
      "10 comes after 9\n"
     ]
    }
   ],
   "source": [
    "print(x,\"comes after 9\")"
   ]
  },
  {
   "cell_type": "code",
   "execution_count": 19,
   "id": "63ce64a7",
   "metadata": {},
   "outputs": [
    {
     "ename": "NameError",
     "evalue": "name 'y' is not defined",
     "output_type": "error",
     "traceback": [
      "\u001b[1;31m---------------------------------------------------------------------------\u001b[0m",
      "\u001b[1;31mNameError\u001b[0m                                 Traceback (most recent call last)",
      "\u001b[1;32m~\\AppData\\Local\\Temp/ipykernel_30572/2428935928.py\u001b[0m in \u001b[0;36m<module>\u001b[1;34m\u001b[0m\n\u001b[1;32m----> 1\u001b[1;33m \u001b[0mprint\u001b[0m\u001b[1;33m(\u001b[0m\u001b[0my\u001b[0m\u001b[1;33m+\u001b[0m\u001b[0mx\u001b[0m\u001b[1;33m)\u001b[0m \u001b[1;31m#Function block, as above in some fuction we defined y and now it is not taking because that stored in local value\u001b[0m\u001b[1;33m\u001b[0m\u001b[1;33m\u001b[0m\u001b[0m\n\u001b[0m",
      "\u001b[1;31mNameError\u001b[0m: name 'y' is not defined"
     ]
    }
   ],
   "source": [
    "print(y+x) #Function block, as above in some fuction we defined y and now it is not taking because that stored in local value"
   ]
  },
  {
   "cell_type": "code",
   "execution_count": 30,
   "id": "18701674",
   "metadata": {},
   "outputs": [],
   "source": [
    "x=5\n",
    "y=85 #giving values to variable is like a placeholder"
   ]
  },
  {
   "cell_type": "code",
   "execution_count": 28,
   "id": "d206f9b3",
   "metadata": {},
   "outputs": [],
   "source": [
    "def add2():\n",
    "    a=x+y\n",
    "    print(a)"
   ]
  },
  {
   "cell_type": "code",
   "execution_count": 29,
   "id": "ea545e8b",
   "metadata": {},
   "outputs": [
    {
     "name": "stdout",
     "output_type": "stream",
     "text": [
      "90\n"
     ]
    }
   ],
   "source": [
    "add2()"
   ]
  },
  {
   "cell_type": "code",
   "execution_count": 31,
   "id": "64aba32a",
   "metadata": {},
   "outputs": [],
   "source": [
    "#important thing below"
   ]
  },
  {
   "cell_type": "code",
   "execution_count": 32,
   "id": "368bf2dc",
   "metadata": {},
   "outputs": [],
   "source": [
    "def func():\n",
    "    x=4\n",
    "    y=3\n",
    "    d=x+y\n",
    "    print(d)"
   ]
  },
  {
   "cell_type": "code",
   "execution_count": 34,
   "id": "1b9e40d3",
   "metadata": {},
   "outputs": [
    {
     "name": "stdout",
     "output_type": "stream",
     "text": [
      "7\n"
     ]
    }
   ],
   "source": [
    "func() #this is one way to run the function, another way check below"
   ]
  },
  {
   "cell_type": "code",
   "execution_count": 36,
   "id": "1bc213f5",
   "metadata": {},
   "outputs": [
    {
     "name": "stdout",
     "output_type": "stream",
     "text": [
      "7\n"
     ]
    }
   ],
   "source": [
    "def func():\n",
    "    x=4\n",
    "    y=3\n",
    "    d=x+y\n",
    "    print(d)\n",
    "func() #this is like runniung globally, above cell too was like running in the same way."
   ]
  },
  {
   "cell_type": "code",
   "execution_count": 48,
   "id": "f384dcdf",
   "metadata": {},
   "outputs": [],
   "source": [
    "#this whole cell is calling function definition\n",
    "def argument_func(x,y): #fourthly it'll go here to get things of this function.\n",
    "\n",
    "    a=x+y\n",
    "    print(a) #fifthly arguments are been replaced by g and h (in order) so it'll print a which is g+h."
   ]
  },
  {
   "cell_type": "code",
   "execution_count": 49,
   "id": "1ec4c786",
   "metadata": {},
   "outputs": [
    {
     "name": "stdout",
     "output_type": "stream",
     "text": [
      "73\n"
     ]
    }
   ],
   "source": [
    "def using_above_example(): #secondly it'll reach here in the function calling\n",
    "    g=5\n",
    "    h=68\n",
    "    argument_func(g,h) #thirdly, then it'll go here which is function call. #sixthly, it'll come again to do the role.\n",
    "using_above_example() #fistly it'll go here which is calling this function. #seventhly here to do the last role."
   ]
  },
  {
   "cell_type": "markdown",
   "id": "edc682df",
   "metadata": {},
   "source": [
    "##### Return"
   ]
  },
  {
   "cell_type": "code",
   "execution_count": 68,
   "id": "67502995",
   "metadata": {},
   "outputs": [],
   "source": [
    "def Rossy(x,y):\n",
    " \n",
    "    f=x*y\n",
    "    print(\"f\",f)\n",
    "    return f,x,y #it'll do the job of exitting the functiion and called return value\n",
    "    print(f*2)"
   ]
  },
  {
   "cell_type": "code",
   "execution_count": 72,
   "id": "9022e2d0",
   "metadata": {},
   "outputs": [
    {
     "name": "stdout",
     "output_type": "stream",
     "text": [
      "f 1080\n",
      "c (1080, 45, 24)\n",
      "None\n"
     ]
    }
   ],
   "source": [
    "def Kassi():\n",
    "    a=45\n",
    "    b=24\n",
    "    c,d,e=Rossy(a,b),555,1 #even I don't write 555,1 aka values of d and e, it won't have a problem but it'll know that there\\\n",
    "    #are some values of d and e present.\n",
    "    print(\"c\",c)\n",
    "    return #we're not returning anything and thus it printed none\n",
    "    print(\"Hi\")\n",
    "t=Kassi()\n",
    "print(t)"
   ]
  },
  {
   "cell_type": "code",
   "execution_count": 75,
   "id": "643ce382",
   "metadata": {},
   "outputs": [],
   "source": [
    "#see here where else None comes out"
   ]
  },
  {
   "cell_type": "code",
   "execution_count": 76,
   "id": "ea7a6200",
   "metadata": {},
   "outputs": [
    {
     "name": "stdout",
     "output_type": "stream",
     "text": [
      "Hi\n",
      "None\n",
      "None\n"
     ]
    }
   ],
   "source": [
    "print(print(print(\"Hi\")))"
   ]
  },
  {
   "cell_type": "code",
   "execution_count": 79,
   "id": "b4fed9ac",
   "metadata": {},
   "outputs": [
    {
     "data": {
      "text/plain": [
       "-1"
      ]
     },
     "execution_count": 79,
     "metadata": {},
     "output_type": "execute_result"
    }
   ],
   "source": [
    "h='Hi'\n",
    "h.find('e')"
   ]
  },
  {
   "cell_type": "code",
   "execution_count": 81,
   "id": "974f9e27",
   "metadata": {},
   "outputs": [
    {
     "data": {
      "text/plain": [
       "2"
      ]
     },
     "execution_count": 81,
     "metadata": {},
     "output_type": "execute_result"
    }
   ],
   "source": [
    "d={1:2,5:7}\n",
    "d.get(1)"
   ]
  },
  {
   "cell_type": "code",
   "execution_count": 84,
   "id": "47e8d818",
   "metadata": {},
   "outputs": [
    {
     "name": "stdout",
     "output_type": "stream",
     "text": [
      "None\n"
     ]
    }
   ],
   "source": [
    "print(d.get(0))"
   ]
  },
  {
   "cell_type": "code",
   "execution_count": 74,
   "id": "38c6a4a9",
   "metadata": {},
   "outputs": [
    {
     "name": "stdout",
     "output_type": "stream",
     "text": [
      "f 1080\n",
      "c (1080, 45, 24)\n",
      "(45, 24, (1080, 45, 24))\n"
     ]
    }
   ],
   "source": [
    "def Kassi():\n",
    "    a=45\n",
    "    b=24\n",
    "    c,d,e=Rossy(a,b),555,1 #even I don't write 555,1 aka values of d and e, it won't have a problem but it'll know that there\\\n",
    "    #are some values of d and e present.\n",
    "    print(\"c\",c)\n",
    "    return a,b,c #return value\n",
    "    print(\"Hi\")\n",
    "t=Kassi()\n",
    "print(t)"
   ]
  }
 ],
 "metadata": {
  "kernelspec": {
   "display_name": "Python 3 (ipykernel)",
   "language": "python",
   "name": "python3"
  },
  "language_info": {
   "codemirror_mode": {
    "name": "ipython",
    "version": 3
   },
   "file_extension": ".py",
   "mimetype": "text/x-python",
   "name": "python",
   "nbconvert_exporter": "python",
   "pygments_lexer": "ipython3",
   "version": "3.9.6"
  }
 },
 "nbformat": 4,
 "nbformat_minor": 5
}
